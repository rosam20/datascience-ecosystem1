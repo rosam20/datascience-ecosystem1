{
  "metadata": {
    "kernelspec": {
      "name": "python",
      "display_name": "Python (Pyodide)",
      "language": "python"
    },
    "language_info": {
      "codemirror_mode": {
        "name": "python",
        "version": 3
      },
      "file_extension": ".py",
      "mimetype": "text/x-python",
      "name": "python",
      "nbconvert_exporter": "python",
      "pygments_lexer": "ipython3",
      "version": "3.8"
    }
  },
  "nbformat_minor": 5,
  "nbformat": 4,
  "cells": [
    {
      "id": "28a47db8-6520-4fef-85c1-fbff3c093822",
      "cell_type": "markdown",
      "source": "# Data Science Tools and Ecosystem\n",
      "metadata": {}
    },
    {
      "id": "9fd0a976-eb9f-46a6-bbfb-a7b36ef0560e",
      "cell_type": "markdown",
      "source": "In this notebook, Data Science Tools and Ecosystem are summarized.",
      "metadata": {}
    },
    {
      "id": "e9d4be8f-fd7c-43c9-9785-0edf7f6f91d7",
      "cell_type": "markdown",
      "source": "Some of the popular languages that Data Scientists use are:\n\n1. Python  \n2. R  \n3. SQL  \n",
      "metadata": {}
    },
    {
      "id": "900eae02-4adf-45db-87f0-265b9092ec0b",
      "cell_type": "markdown",
      "source": "Some of the commonly used libraries used by Data Scientists include:\n\n1. Pandas  \n2. NumPy  \n3. Matplotlib  \n",
      "metadata": {}
    },
    {
      "id": "fe7d1320-8f05-4916-b097-f1bf54c6f471",
      "cell_type": "markdown",
      "source": "| Data Science Tools |\n|--------------------|\n| Jupyter Notebook   |\n| RStudio            |\n| Apache Zeppelin    |\n",
      "metadata": {}
    },
    {
      "id": "e1d8213b-30da-4d79-a9f6-09b6d24027bc",
      "cell_type": "markdown",
      "source": "### Below are a few examples of evaluating arithmetic expressions in Python.\n",
      "metadata": {}
    },
    {
      "id": "db26cf42-e070-46c2-9107-31819bf07e55",
      "cell_type": "code",
      "source": "# This is a simple arithmetic expression to multiply then add integers.\n(3 * 4) + 5",
      "metadata": {
        "trusted": true
      },
      "outputs": [
        {
          "execution_count": 3,
          "output_type": "execute_result",
          "data": {
            "text/plain": "17"
          },
          "metadata": {}
        }
      ],
      "execution_count": 3
    },
    {
      "id": "78b3f927-1118-4973-817d-1c0c165fe0a5",
      "cell_type": "code",
      "source": "# This will convert 200 minutes to hours by dividing by 60.\n200 / 60",
      "metadata": {
        "trusted": true
      },
      "outputs": [
        {
          "execution_count": 4,
          "output_type": "execute_result",
          "data": {
            "text/plain": "3.3333333333333335"
          },
          "metadata": {}
        }
      ],
      "execution_count": 4
    },
    {
      "id": "1da35771-3b86-4822-9dc8-78fc5e0227be",
      "cell_type": "markdown",
      "source": "**Objectives:**\n\n- List popular languages for Data Science\n- List commonly used libraries in Data Science\n- Create tables using markdown\n- Perform arithmetic operations in code cells\n- Convert time units in Python\n",
      "metadata": {}
    },
    {
      "id": "20a539a4-cf18-4506-ab94-8b7c3087ac64",
      "cell_type": "markdown",
      "source": "## Author  \nROSHAN SAMUEL M\n",
      "metadata": {}
    },
    {
      "id": "ad7fd4ba-23ca-45af-aad4-f41a006f8556",
      "cell_type": "code",
      "source": "",
      "metadata": {
        "trusted": true
      },
      "outputs": [],
      "execution_count": null
    }
  ]
}